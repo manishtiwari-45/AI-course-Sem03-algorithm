{
 "cells": [
  {
   "cell_type": "code",
   "execution_count": null,
   "id": "8db0f69a",
   "metadata": {},
   "outputs": [
    {
     "name": "stdout",
     "output_type": "stream",
     "text": [
      "238\n"
     ]
    }
   ],
   "source": [
    "import random \n",
    "\n",
    "def function():\n",
    "    both = 0\n",
    "    for i in range(1000):\n",
    "        a = random.random()\n",
    "        b = random.random()\n",
    "        \n",
    "        if a > 0.4:\n",
    "            a = 1\n",
    "        else:\n",
    "            a = 0\n",
    "\n",
    "        if b > 0.6:\n",
    "            b = 1\n",
    "        else:\n",
    "            b = 0\n",
    "        \n",
    "        if a * b == 1:\n",
    "            both += 1\n",
    "    return both\n",
    "\n",
    "c = function()\n",
    "print(c)\n"
   ]
  },
  {
   "cell_type": "code",
   "execution_count": 6,
   "id": "d3f82deb",
   "metadata": {},
   "outputs": [
    {
     "name": "stdout",
     "output_type": "stream",
     "text": [
      "[224, 252, 247, 227, 231, 233, 253, 244, 256, 256]\n"
     ]
    }
   ],
   "source": [
    "arr = []\n",
    "for i in range(10):\n",
    "    a = function()\n",
    "    arr.append(a)\n",
    "print(arr)"
   ]
  },
  {
   "cell_type": "code",
   "execution_count": null,
   "id": "ca0d4248",
   "metadata": {},
   "outputs": [
    {
     "name": "stdout",
     "output_type": "stream",
     "text": [
      "Trial 1: both = 237, fraction = 0.237\n",
      "Trial 2: both = 246, fraction = 0.246\n",
      "Trial 3: both = 239, fraction = 0.239\n",
      "Trial 4: both = 232, fraction = 0.232\n",
      "Trial 5: both = 217, fraction = 0.217\n",
      "Trial 6: both = 240, fraction = 0.240\n",
      "Trial 7: both = 244, fraction = 0.244\n",
      "Trial 8: both = 247, fraction = 0.247\n",
      "Trial 9: both = 210, fraction = 0.210\n",
      "Trial 10: both = 231, fraction = 0.231\n",
      "\n",
      "Average fraction after 10 trials = 0.234\n"
     ]
    }
   ],
   "source": [
    "import random\n",
    "\n",
    "def function():\n",
    "    both = 0\n",
    "    for i in range(1000):\n",
    "        a = random.random()\n",
    "        b = random.random()\n",
    "        \n",
    "        if a > 0.4:\n",
    "            a = 1\n",
    "        else:\n",
    "            a = 0\n",
    "\n",
    "        if b > 0.6:\n",
    "            b = 1\n",
    "        else:\n",
    "            b = 0\n",
    "        \n",
    "        if a * b == 1:\n",
    "            both += 1\n",
    "    return both\n",
    "\n",
    "arr = []\n",
    "fractions = []\n",
    "\n",
    "for i in range(10):\n",
    "    count = function()\n",
    "    frac = count / 1000    \n",
    "    arr.append(count)\n",
    "    fractions.append(frac)\n",
    "    print(f\"Trial {i+1}: both = {count}, fraction = {frac:.3f}\")\n",
    "\n",
    "# Final average\n",
    "average_fraction = sum(fractions) / len(fractions)\n",
    "print(\"\\nAverage fraction after 10 trials =\", round(average_fraction, 3))\n"
   ]
  }
 ],
 "metadata": {
  "kernelspec": {
   "display_name": "Python 3",
   "language": "python",
   "name": "python3"
  },
  "language_info": {
   "codemirror_mode": {
    "name": "ipython",
    "version": 3
   },
   "file_extension": ".py",
   "mimetype": "text/x-python",
   "name": "python",
   "nbconvert_exporter": "python",
   "pygments_lexer": "ipython3",
   "version": "3.13.0"
  }
 },
 "nbformat": 4,
 "nbformat_minor": 5
}
